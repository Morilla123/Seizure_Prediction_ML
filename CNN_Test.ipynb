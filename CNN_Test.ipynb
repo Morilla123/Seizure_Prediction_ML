{
 "cells": [
  {
   "cell_type": "code",
   "execution_count": 2,
   "metadata": {
    "collapsed": true,
    "jupyter": {
     "outputs_hidden": true
    }
   },
   "outputs": [
    {
     "name": "stdout",
     "output_type": "stream",
     "text": [
      "Extracting EDF parameters from C:\\Users\\Dibio-hardpreform\\chb01_03.edf...\n",
      "EDF file detected\n",
      "Setting channel info structure...\n",
      "Creating raw.info structure...\n",
      "Extracting EDF parameters from C:\\Users\\Dibio-hardpreform\\chb01_04.edf...\n",
      "EDF file detected\n",
      "Setting channel info structure...\n",
      "Creating raw.info structure...\n",
      "Extracting EDF parameters from C:\\Users\\Dibio-hardpreform\\chb01_15.edf...\n",
      "EDF file detected\n"
     ]
    },
    {
     "name": "stderr",
     "output_type": "stream",
     "text": [
      "<ipython-input-2-dc94843f228d>:2: RuntimeWarning: Channel names are not unique, found duplicates for: {'T8-P8'}. Applying running numbers for duplicates.\n",
      "  edf3 = mne.io.read_raw_edf('chb01_03.edf')\n",
      "<ipython-input-2-dc94843f228d>:3: RuntimeWarning: Channel names are not unique, found duplicates for: {'T8-P8'}. Applying running numbers for duplicates.\n",
      "  edf4 = mne.io.read_raw_edf('chb01_04.edf')\n"
     ]
    },
    {
     "name": "stdout",
     "output_type": "stream",
     "text": [
      "Setting channel info structure...\n",
      "Creating raw.info structure...\n",
      "Extracting EDF parameters from C:\\Users\\Dibio-hardpreform\\chb01_16.edf...\n",
      "EDF file detected\n",
      "Setting channel info structure...\n",
      "Creating raw.info structure...\n",
      "Extracting EDF parameters from C:\\Users\\Dibio-hardpreform\\chb01_18.edf...\n",
      "EDF file detected\n",
      "Setting channel info structure...\n",
      "Creating raw.info structure...\n",
      "Extracting EDF parameters from C:\\Users\\Dibio-hardpreform\\chb01_21.edf...\n",
      "EDF file detected\n"
     ]
    },
    {
     "name": "stderr",
     "output_type": "stream",
     "text": [
      "<ipython-input-2-dc94843f228d>:4: RuntimeWarning: Channel names are not unique, found duplicates for: {'T8-P8'}. Applying running numbers for duplicates.\n",
      "  edf15 = mne.io.read_raw_edf('chb01_15.edf')\n",
      "<ipython-input-2-dc94843f228d>:5: RuntimeWarning: Channel names are not unique, found duplicates for: {'T8-P8'}. Applying running numbers for duplicates.\n",
      "  edf16 = mne.io.read_raw_edf('chb01_16.edf')\n",
      "<ipython-input-2-dc94843f228d>:6: RuntimeWarning: Channel names are not unique, found duplicates for: {'T8-P8'}. Applying running numbers for duplicates.\n",
      "  edf18 = mne.io.read_raw_edf('chb01_18.edf')\n",
      "<ipython-input-2-dc94843f228d>:7: RuntimeWarning: Channel names are not unique, found duplicates for: {'T8-P8'}. Applying running numbers for duplicates.\n",
      "  edf21 = mne.io.read_raw_edf('chb01_21.edf')\n"
     ]
    },
    {
     "name": "stdout",
     "output_type": "stream",
     "text": [
      "Setting channel info structure...\n",
      "Creating raw.info structure...\n",
      "Extracting EDF parameters from C:\\Users\\Dibio-hardpreform\\chb01_26.edf...\n",
      "EDF file detected\n",
      "Setting channel info structure...\n",
      "Creating raw.info structure...\n"
     ]
    },
    {
     "name": "stderr",
     "output_type": "stream",
     "text": [
      "<ipython-input-2-dc94843f228d>:8: RuntimeWarning: Channel names are not unique, found duplicates for: {'T8-P8'}. Applying running numbers for duplicates.\n",
      "  edf26 = mne.io.read_raw_edf('chb01_26.edf')\n"
     ]
    }
   ],
   "source": [
    "import mne\n",
    "edf3 = mne.io.read_raw_edf('chb01_03.edf')\n",
    "edf4 = mne.io.read_raw_edf('chb01_04.edf')\n",
    "edf15 = mne.io.read_raw_edf('chb01_15.edf')\n",
    "edf16 = mne.io.read_raw_edf('chb01_16.edf')\n",
    "edf18 = mne.io.read_raw_edf('chb01_18.edf')\n",
    "edf21 = mne.io.read_raw_edf('chb01_21.edf')\n",
    "edf26 = mne.io.read_raw_edf('chb01_26.edf')"
   ]
  },
  {
   "cell_type": "code",
   "execution_count": 5,
   "metadata": {},
   "outputs": [
    {
     "name": "stdout",
     "output_type": "stream",
     "text": [
      "2.1.0\n"
     ]
    }
   ],
   "source": [
    "import tensorflow as tf\n",
    "\n",
    "print(tf.__version__)\n",
    "\n",
    "from tensorflow import keras\n",
    "from tensorflow.keras.models import Model\n",
    "from tensorflow.keras.layers import MaxPooling2D, UpSampling2D\n",
    "from tensorflow.keras.layers import Convolution2D,Input\n",
    "from tensorflow.keras.models import Model\n",
    "from tensorflow.keras import layers\n",
    "from tensorflow.keras.models import Sequential\n",
    "from keras.utils import np_utils\n",
    "\n",
    "import pandas as pd\n",
    "import numpy as np\n",
    "\n",
    "import matplotlib.pyplot as plt\n",
    "\n",
    "\n",
    "# from tensorflow.keras import datasets, layers, models"
   ]
  },
  {
   "cell_type": "code",
   "execution_count": 157,
   "metadata": {},
   "outputs": [],
   "source": [
    "from tensorflow.keras import backend as K\n",
    "from tensorflow.keras.layers import Dropout\n",
    "from tensorflow.keras import optimizers"
   ]
  },
  {
   "cell_type": "code",
   "execution_count": 6,
   "metadata": {},
   "outputs": [],
   "source": [
    "#Disabling the warnings permantently\n",
    "import warnings\n",
    "warnings.filterwarnings('ignore')"
   ]
  },
  {
   "cell_type": "code",
   "execution_count": 7,
   "metadata": {},
   "outputs": [],
   "source": [
    "header = ','.join(edf3.ch_names)\n",
    "\n",
    "df3 = np.savetxt('chb01_3.csv', edf3.get_data().T, delimiter=',', header=header)\n",
    "df3 = pd.read_csv('chb01_3.csv')\n",
    "\n",
    "df4 = np.savetxt('chb01_4.csv', edf4.get_data().T, delimiter=',', header=header)\n",
    "df4 = pd.read_csv('chb01_4.csv')\n",
    "\n",
    "df15 = np.savetxt('chb01_15.csv', edf15.get_data().T, delimiter=',', header=header)\n",
    "df15 = pd.read_csv('chb01_15.csv')\n",
    "\n",
    "df16 = np.savetxt('chb01_16.csv', edf16.get_data().T, delimiter=',', header=header)\n",
    "df16 = pd.read_csv('chb01_16.csv')\n",
    "\n",
    "df18 = np.savetxt('chb01_18.csv', edf18.get_data().T, delimiter=',', header=header)\n",
    "df18 = pd.read_csv('chb01_18.csv')\n",
    "\n",
    "df21 = np.savetxt('chb01_21.csv', edf21.get_data().T, delimiter=',', header=header)\n",
    "df21 = pd.read_csv('chb01_21.csv')\n",
    "\n",
    "df26 = np.savetxt('chb01_26.csv', edf26.get_data().T, delimiter=',', header=header)\n",
    "df26 = pd.read_csv('chb01_26.csv')"
   ]
  },
  {
   "cell_type": "code",
   "execution_count": 8,
   "metadata": {},
   "outputs": [],
   "source": [
    "df3 = pd.read_csv('chb01_3.csv')\n",
    "df4 = pd.read_csv('chb01_4.csv')\n",
    "df15 = pd.read_csv('chb01_15.csv')\n",
    "df16 = pd.read_csv('chb01_16.csv')\n",
    "df18 = pd.read_csv('chb01_18.csv')\n",
    "df21 = pd.read_csv('chb01_21.csv')\n",
    "df26 = pd.read_csv('chb01_26.csv')"
   ]
  },
  {
   "cell_type": "code",
   "execution_count": 9,
   "metadata": {},
   "outputs": [],
   "source": [
    "df3 = df3.loc[2956*256:3036*256] #80s*\n",
    "df4 = df4.loc[1440*256:1494*256] #27s*\n",
    "df15 = df15.loc[1692*256:1772*256] #40s*\n",
    "df16 = df16.loc[964*256:1066*256] #51s*\n",
    "df18 = df18.loc[1630*256:1810*256] #90s*\n",
    "df21 = df21.loc[234*256:420*256] #93s\n",
    "\n",
    "df26 = df26.loc[1761*256:1963*256] #101s<--------------test"
   ]
  },
  {
   "cell_type": "code",
   "execution_count": 11,
   "metadata": {},
   "outputs": [
    {
     "name": "stdout",
     "output_type": "stream",
     "text": [
      "(20481, 23) (13825, 23) (20481, 23) (26113, 23) (46081, 23) (47617, 23) (51713, 23)\n"
     ]
    }
   ],
   "source": [
    "print((df3.shape),(df4.shape),(df15.shape),(df16.shape),(df18.shape),(df21.shape),(df26.shape))"
   ]
  },
  {
   "cell_type": "code",
   "execution_count": 12,
   "metadata": {},
   "outputs": [],
   "source": [
    "L3nsz = np.zeros((8,1))\n",
    "L3sz = np.ones((8,1))\n",
    "L3_img = np.append(L3nsz,L3sz)\n",
    "\n",
    "L4nsz = np.zeros((5,1))\n",
    "L4sz = np.ones((5,1))\n",
    "L4_img = np.append(L4nsz,L4sz)\n",
    "\n",
    "# L15nsz = np.zeros((8,1))\n",
    "# L15sz = np.ones((8,1))\n",
    "# L15_img = np.append(L15nsz,L15sz)\n",
    "\n",
    "L16nsz = np.zeros((10,1))\n",
    "L16sz = np.ones((10,1))\n",
    "L16_img = np.append(L16nsz,L16sz)\n",
    "\n",
    "L18nsz = np.zeros((18,1))\n",
    "L18sz = np.ones((18,1))\n",
    "L18_img = np.append(L18nsz,L18sz)\n",
    "\n",
    "L21nsz = np.zeros((18,1))\n",
    "L21sz = np.ones((19,1))\n",
    "L21_img = np.append(L21nsz,L21sz)\n",
    "\n",
    "L26nsz = np.zeros((20,1))\n",
    "L26sz = np.ones((20,1))\n",
    "L26_img_test = np.append(L26nsz,L26sz)"
   ]
  },
  {
   "cell_type": "code",
   "execution_count": 13,
   "metadata": {},
   "outputs": [
    {
     "name": "stdout",
     "output_type": "stream",
     "text": [
      "119 40\n"
     ]
    }
   ],
   "source": [
    "Labels_img = np.concatenate((L3_img,L4_img,L16_img,L18_img,L21_img))\n",
    "Labels_test = L26_img_test\n",
    "print(len(Labels_img),len(L26_img_test))"
   ]
  },
  {
   "cell_type": "code",
   "execution_count": 14,
   "metadata": {},
   "outputs": [],
   "source": [
    "Labels_ingint8 = Labels_img.astype(np.uint8)\n",
    "Labels_testint8 = Labels_test.astype(np.uint8)"
   ]
  },
  {
   "cell_type": "code",
   "execution_count": 130,
   "metadata": {},
   "outputs": [
    {
     "data": {
      "text/plain": [
       "(119,)"
      ]
     },
     "execution_count": 130,
     "metadata": {},
     "output_type": "execute_result"
    }
   ],
   "source": [
    "Labels_ingint8.shape"
   ]
  },
  {
   "cell_type": "code",
   "execution_count": null,
   "metadata": {},
   "outputs": [],
   "source": [
    "#------------------------ Test whit One Hot encoding"
   ]
  },
  {
   "cell_type": "code",
   "execution_count": 136,
   "metadata": {},
   "outputs": [],
   "source": [
    "label_train = pd.get_dummies(Labels_ingint8, prefix=None, prefix_sep='_', dummy_na=False, columns=None, sparse=False, drop_first=False, dtype=None)\n",
    "label_test = pd.get_dummies(Labels_testint8, prefix=None, prefix_sep='_', dummy_na=False, columns=None, sparse=False, drop_first=False, dtype=None)"
   ]
  },
  {
   "cell_type": "code",
   "execution_count": 137,
   "metadata": {
    "scrolled": true
   },
   "outputs": [
    {
     "data": {
      "text/plain": [
       "(40, 2)"
      ]
     },
     "execution_count": 137,
     "metadata": {},
     "output_type": "execute_result"
    }
   ],
   "source": [
    "label_test.shape"
   ]
  },
  {
   "cell_type": "code",
   "execution_count": 183,
   "metadata": {
    "scrolled": true
   },
   "outputs": [
    {
     "data": {
      "text/html": [
       "<div>\n",
       "<style scoped>\n",
       "    .dataframe tbody tr th:only-of-type {\n",
       "        vertical-align: middle;\n",
       "    }\n",
       "\n",
       "    .dataframe tbody tr th {\n",
       "        vertical-align: top;\n",
       "    }\n",
       "\n",
       "    .dataframe thead th {\n",
       "        text-align: right;\n",
       "    }\n",
       "</style>\n",
       "<table border=\"1\" class=\"dataframe\">\n",
       "  <thead>\n",
       "    <tr style=\"text-align: right;\">\n",
       "      <th></th>\n",
       "      <th>0</th>\n",
       "      <th>1</th>\n",
       "    </tr>\n",
       "  </thead>\n",
       "  <tbody>\n",
       "    <tr>\n",
       "      <th>0</th>\n",
       "      <td>1</td>\n",
       "      <td>0</td>\n",
       "    </tr>\n",
       "    <tr>\n",
       "      <th>1</th>\n",
       "      <td>1</td>\n",
       "      <td>0</td>\n",
       "    </tr>\n",
       "    <tr>\n",
       "      <th>2</th>\n",
       "      <td>1</td>\n",
       "      <td>0</td>\n",
       "    </tr>\n",
       "    <tr>\n",
       "      <th>3</th>\n",
       "      <td>1</td>\n",
       "      <td>0</td>\n",
       "    </tr>\n",
       "    <tr>\n",
       "      <th>4</th>\n",
       "      <td>1</td>\n",
       "      <td>0</td>\n",
       "    </tr>\n",
       "    <tr>\n",
       "      <th>5</th>\n",
       "      <td>1</td>\n",
       "      <td>0</td>\n",
       "    </tr>\n",
       "    <tr>\n",
       "      <th>6</th>\n",
       "      <td>1</td>\n",
       "      <td>0</td>\n",
       "    </tr>\n",
       "    <tr>\n",
       "      <th>7</th>\n",
       "      <td>1</td>\n",
       "      <td>0</td>\n",
       "    </tr>\n",
       "    <tr>\n",
       "      <th>8</th>\n",
       "      <td>1</td>\n",
       "      <td>0</td>\n",
       "    </tr>\n",
       "    <tr>\n",
       "      <th>9</th>\n",
       "      <td>1</td>\n",
       "      <td>0</td>\n",
       "    </tr>\n",
       "    <tr>\n",
       "      <th>10</th>\n",
       "      <td>1</td>\n",
       "      <td>0</td>\n",
       "    </tr>\n",
       "    <tr>\n",
       "      <th>11</th>\n",
       "      <td>1</td>\n",
       "      <td>0</td>\n",
       "    </tr>\n",
       "    <tr>\n",
       "      <th>12</th>\n",
       "      <td>1</td>\n",
       "      <td>0</td>\n",
       "    </tr>\n",
       "    <tr>\n",
       "      <th>13</th>\n",
       "      <td>1</td>\n",
       "      <td>0</td>\n",
       "    </tr>\n",
       "    <tr>\n",
       "      <th>14</th>\n",
       "      <td>1</td>\n",
       "      <td>0</td>\n",
       "    </tr>\n",
       "    <tr>\n",
       "      <th>15</th>\n",
       "      <td>1</td>\n",
       "      <td>0</td>\n",
       "    </tr>\n",
       "    <tr>\n",
       "      <th>16</th>\n",
       "      <td>1</td>\n",
       "      <td>0</td>\n",
       "    </tr>\n",
       "    <tr>\n",
       "      <th>17</th>\n",
       "      <td>1</td>\n",
       "      <td>0</td>\n",
       "    </tr>\n",
       "    <tr>\n",
       "      <th>18</th>\n",
       "      <td>1</td>\n",
       "      <td>0</td>\n",
       "    </tr>\n",
       "    <tr>\n",
       "      <th>19</th>\n",
       "      <td>1</td>\n",
       "      <td>0</td>\n",
       "    </tr>\n",
       "    <tr>\n",
       "      <th>20</th>\n",
       "      <td>0</td>\n",
       "      <td>1</td>\n",
       "    </tr>\n",
       "    <tr>\n",
       "      <th>21</th>\n",
       "      <td>0</td>\n",
       "      <td>1</td>\n",
       "    </tr>\n",
       "    <tr>\n",
       "      <th>22</th>\n",
       "      <td>0</td>\n",
       "      <td>1</td>\n",
       "    </tr>\n",
       "    <tr>\n",
       "      <th>23</th>\n",
       "      <td>0</td>\n",
       "      <td>1</td>\n",
       "    </tr>\n",
       "    <tr>\n",
       "      <th>24</th>\n",
       "      <td>0</td>\n",
       "      <td>1</td>\n",
       "    </tr>\n",
       "    <tr>\n",
       "      <th>25</th>\n",
       "      <td>0</td>\n",
       "      <td>1</td>\n",
       "    </tr>\n",
       "    <tr>\n",
       "      <th>26</th>\n",
       "      <td>0</td>\n",
       "      <td>1</td>\n",
       "    </tr>\n",
       "    <tr>\n",
       "      <th>27</th>\n",
       "      <td>0</td>\n",
       "      <td>1</td>\n",
       "    </tr>\n",
       "    <tr>\n",
       "      <th>28</th>\n",
       "      <td>0</td>\n",
       "      <td>1</td>\n",
       "    </tr>\n",
       "    <tr>\n",
       "      <th>29</th>\n",
       "      <td>0</td>\n",
       "      <td>1</td>\n",
       "    </tr>\n",
       "    <tr>\n",
       "      <th>30</th>\n",
       "      <td>0</td>\n",
       "      <td>1</td>\n",
       "    </tr>\n",
       "    <tr>\n",
       "      <th>31</th>\n",
       "      <td>0</td>\n",
       "      <td>1</td>\n",
       "    </tr>\n",
       "    <tr>\n",
       "      <th>32</th>\n",
       "      <td>0</td>\n",
       "      <td>1</td>\n",
       "    </tr>\n",
       "    <tr>\n",
       "      <th>33</th>\n",
       "      <td>0</td>\n",
       "      <td>1</td>\n",
       "    </tr>\n",
       "    <tr>\n",
       "      <th>34</th>\n",
       "      <td>0</td>\n",
       "      <td>1</td>\n",
       "    </tr>\n",
       "    <tr>\n",
       "      <th>35</th>\n",
       "      <td>0</td>\n",
       "      <td>1</td>\n",
       "    </tr>\n",
       "    <tr>\n",
       "      <th>36</th>\n",
       "      <td>0</td>\n",
       "      <td>1</td>\n",
       "    </tr>\n",
       "    <tr>\n",
       "      <th>37</th>\n",
       "      <td>0</td>\n",
       "      <td>1</td>\n",
       "    </tr>\n",
       "    <tr>\n",
       "      <th>38</th>\n",
       "      <td>0</td>\n",
       "      <td>1</td>\n",
       "    </tr>\n",
       "    <tr>\n",
       "      <th>39</th>\n",
       "      <td>0</td>\n",
       "      <td>1</td>\n",
       "    </tr>\n",
       "  </tbody>\n",
       "</table>\n",
       "</div>"
      ],
      "text/plain": [
       "    0  1\n",
       "0   1  0\n",
       "1   1  0\n",
       "2   1  0\n",
       "3   1  0\n",
       "4   1  0\n",
       "5   1  0\n",
       "6   1  0\n",
       "7   1  0\n",
       "8   1  0\n",
       "9   1  0\n",
       "10  1  0\n",
       "11  1  0\n",
       "12  1  0\n",
       "13  1  0\n",
       "14  1  0\n",
       "15  1  0\n",
       "16  1  0\n",
       "17  1  0\n",
       "18  1  0\n",
       "19  1  0\n",
       "20  0  1\n",
       "21  0  1\n",
       "22  0  1\n",
       "23  0  1\n",
       "24  0  1\n",
       "25  0  1\n",
       "26  0  1\n",
       "27  0  1\n",
       "28  0  1\n",
       "29  0  1\n",
       "30  0  1\n",
       "31  0  1\n",
       "32  0  1\n",
       "33  0  1\n",
       "34  0  1\n",
       "35  0  1\n",
       "36  0  1\n",
       "37  0  1\n",
       "38  0  1\n",
       "39  0  1"
      ]
     },
     "execution_count": 183,
     "metadata": {},
     "output_type": "execute_result"
    }
   ],
   "source": [
    "label_test"
   ]
  },
  {
   "cell_type": "code",
   "execution_count": 184,
   "metadata": {},
   "outputs": [],
   "source": [
    "nclases = 2\n",
    "label_train_categorical = np_utils.to_categorical(Labels_ingint8,nclases)\n",
    "label_test_categorical = np_utils.to_categorical(Labels_testint8,nclases)"
   ]
  },
  {
   "cell_type": "code",
   "execution_count": 185,
   "metadata": {
    "scrolled": true
   },
   "outputs": [
    {
     "data": {
      "text/plain": [
       "array([[1., 0.],\n",
       "       [1., 0.],\n",
       "       [1., 0.],\n",
       "       [1., 0.],\n",
       "       [1., 0.],\n",
       "       [1., 0.],\n",
       "       [1., 0.],\n",
       "       [1., 0.],\n",
       "       [1., 0.],\n",
       "       [1., 0.],\n",
       "       [1., 0.],\n",
       "       [1., 0.],\n",
       "       [1., 0.],\n",
       "       [1., 0.],\n",
       "       [1., 0.],\n",
       "       [1., 0.],\n",
       "       [1., 0.],\n",
       "       [1., 0.],\n",
       "       [1., 0.],\n",
       "       [1., 0.],\n",
       "       [0., 1.],\n",
       "       [0., 1.],\n",
       "       [0., 1.],\n",
       "       [0., 1.],\n",
       "       [0., 1.],\n",
       "       [0., 1.],\n",
       "       [0., 1.],\n",
       "       [0., 1.],\n",
       "       [0., 1.],\n",
       "       [0., 1.],\n",
       "       [0., 1.],\n",
       "       [0., 1.],\n",
       "       [0., 1.],\n",
       "       [0., 1.],\n",
       "       [0., 1.],\n",
       "       [0., 1.],\n",
       "       [0., 1.],\n",
       "       [0., 1.],\n",
       "       [0., 1.],\n",
       "       [0., 1.]], dtype=float32)"
      ]
     },
     "execution_count": 185,
     "metadata": {},
     "output_type": "execute_result"
    }
   ],
   "source": [
    "label_test_categorical"
   ]
  },
  {
   "cell_type": "code",
   "execution_count": null,
   "metadata": {},
   "outputs": [],
   "source": [
    "#------------------------ "
   ]
  },
  {
   "cell_type": "code",
   "execution_count": 15,
   "metadata": {},
   "outputs": [],
   "source": [
    "df3_array = pd.DataFrame(df3).to_numpy()\n",
    "df4_array = pd.DataFrame(df4).to_numpy()\n",
    "df15_array = pd.DataFrame(df15).to_numpy()\n",
    "df16_array = pd.DataFrame(df16).to_numpy()\n",
    "df18_array = pd.DataFrame(df18).to_numpy()\n",
    "df21_array = pd.DataFrame(df21).to_numpy()\n",
    "df26_array = pd.DataFrame(df26).to_numpy()"
   ]
  },
  {
   "cell_type": "code",
   "execution_count": 16,
   "metadata": {},
   "outputs": [],
   "source": [
    "def vectorized_stride(array, clearing_time_index, max_time, sub_window_size,\n",
    "                         stride_size):\n",
    "    start = clearing_time_index + 1 - sub_window_size + 1\n",
    "    \n",
    "    sub_windows = (\n",
    "        start + \n",
    "        np.expand_dims(np.arange(sub_window_size), 0) +\n",
    "        # Create a rightmost vector as [0, V, 2V, ...].\n",
    "        np.expand_dims(np.arange(max_time + 1, step=stride_size), 0).T\n",
    "    )\n",
    "    \n",
    "    return array[sub_windows]"
   ]
  },
  {
   "cell_type": "code",
   "execution_count": 17,
   "metadata": {},
   "outputs": [
    {
     "name": "stdout",
     "output_type": "stream",
     "text": [
      "(20481, 23) (13825, 23) (20481, 23) (26113, 23) (46081, 23) (47617, 23) (51713, 23)\n"
     ]
    }
   ],
   "source": [
    "print((df3_array.shape),(df4_array.shape),(df15_array.shape),(df16_array.shape),(df18_array.shape),(df21_array.shape),(df26_array.shape))"
   ]
  },
  {
   "cell_type": "code",
   "execution_count": 18,
   "metadata": {},
   "outputs": [],
   "source": [
    "r3 = len(df3_array)-(len(df3_array)%1279)-1\n",
    "r4 = len(df4_array)-(len(df4_array)%1279)-1\n",
    "# r15 = len(df15_array)-(len(df15_array)%1279)-1\n",
    "r16 = len(df16_array)-(len(df16_array)%1279)-1\n",
    "r18 = len(df18_array)-(len(df18_array)%1279)-1\n",
    "r21 = len(df21_array)-(len(df21_array)%1279)-1\n",
    "r26 = len(df26_array)-(len(df26_array)%1279)-1"
   ]
  },
  {
   "cell_type": "code",
   "execution_count": 19,
   "metadata": {},
   "outputs": [],
   "source": [
    "df3_w = vectorized_stride(df3_array,1279,r3,1279,1279)\n",
    "df4_w = vectorized_stride(df4_array,1279,r4,1279,1279)\n",
    "# df15_w = vectorized_stride(df15_array,1279,r15,1279,1279)\n",
    "df16_w = vectorized_stride(df16_array,1279,r16,1279,1279)\n",
    "df18_w = vectorized_stride(df18_array,1279,r18,1279,1279)\n",
    "df21_w = vectorized_stride(df21_array,1279,47617-295,1279,1279)\n",
    "df26_w = vectorized_stride(df26_array,1279,r26,1279,1279)"
   ]
  },
  {
   "cell_type": "code",
   "execution_count": 20,
   "metadata": {},
   "outputs": [
    {
     "name": "stdout",
     "output_type": "stream",
     "text": [
      "(16, 1279, 23) (10, 1279, 23) (20, 1279, 23) (36, 1279, 23) (37, 1279, 23) (40, 1279, 23)\n"
     ]
    }
   ],
   "source": [
    "print(df3_w.shape,df4_w.shape, df16_w.shape, df18_w.shape, df21_w.shape, df26_w.shape)"
   ]
  },
  {
   "cell_type": "code",
   "execution_count": 21,
   "metadata": {},
   "outputs": [],
   "source": [
    "df3_arr3d = np.array(df3_w)\n",
    "df4_arr3d = np.array(df4_w)\n",
    "# df15_arr3d = np.array(df15_w)\n",
    "df16_arr3d = np.array(df16_w)\n",
    "df18_arr3d = np.array(df18_w)\n",
    "df21_arr3d = np.array(df21_w)\n",
    "df26_arr3d = np.array(df26_w)"
   ]
  },
  {
   "cell_type": "code",
   "execution_count": 22,
   "metadata": {},
   "outputs": [],
   "source": [
    "tensorp1 = np.vstack((df3_arr3d,df4_arr3d,df16_arr3d,df18_arr3d,df21_arr3d))\n",
    "Test = (df26_arr3d)"
   ]
  },
  {
   "cell_type": "code",
   "execution_count": 23,
   "metadata": {},
   "outputs": [
    {
     "name": "stdout",
     "output_type": "stream",
     "text": [
      "(119,) 1 uint8\n",
      "(40,) 1 uint8\n"
     ]
    }
   ],
   "source": [
    "print((Labels_ingint8.shape),(Labels_ingint8.ndim),(Labels_ingint8.dtype))\n",
    "print((Labels_testint8.shape),(Labels_testint8.ndim),(Labels_testint8.dtype))"
   ]
  },
  {
   "cell_type": "code",
   "execution_count": null,
   "metadata": {},
   "outputs": [],
   "source": [
    "#-------------------------Tain y test sin OneHot Encoding ni normalizacion"
   ]
  },
  {
   "cell_type": "code",
   "execution_count": 56,
   "metadata": {},
   "outputs": [],
   "source": [
    "(x_train, y_train), (x_test, y_test) = ((tensorp1,Labels_ingint8),(Test,Labels_testint8))"
   ]
  },
  {
   "cell_type": "code",
   "execution_count": 27,
   "metadata": {
    "scrolled": true
   },
   "outputs": [
    {
     "name": "stdout",
     "output_type": "stream",
     "text": [
      "(119, 1279, 23)\n",
      "(40, 1279, 23)\n"
     ]
    }
   ],
   "source": [
    "print(x_train.shape)\n",
    "print(x_test.shape)"
   ]
  },
  {
   "cell_type": "code",
   "execution_count": null,
   "metadata": {},
   "outputs": [],
   "source": [
    "#-------------------------Tain y test sin OneHot Encoding ni normalizacion"
   ]
  },
  {
   "cell_type": "code",
   "execution_count": null,
   "metadata": {},
   "outputs": [],
   "source": [
    "#............................train test con OneHot Encoding sin normalizacion"
   ]
  },
  {
   "cell_type": "code",
   "execution_count": 138,
   "metadata": {},
   "outputs": [],
   "source": [
    "(x_train, y_train_oh), (x_test, y_test_oh) = ((tensorp1,label_train),(Test,label_test))"
   ]
  },
  {
   "cell_type": "code",
   "execution_count": 53,
   "metadata": {},
   "outputs": [],
   "source": [
    "#------------------------------------------------normalizar"
   ]
  },
  {
   "cell_type": "code",
   "execution_count": 139,
   "metadata": {},
   "outputs": [
    {
     "data": {
      "text/plain": [
       "(1279, 23)"
      ]
     },
     "execution_count": 139,
     "metadata": {},
     "output_type": "execute_result"
    }
   ],
   "source": [
    "x_train[1].shape\n",
    "\n",
    "from sklearn.preprocessing import normalize\n",
    "\n",
    "test_n =normalize(x_train[1],axis=1, norm='l1')\n",
    "\n",
    "plt.figure(figsize=(18,8))\n",
    "plt.plot(x_train[1])\n",
    "\n",
    "plt.figure(figsize=(18,8))\n",
    "plt.plot(test_n)\n",
    "\n",
    "plt.figure(figsize=(18,8))\n",
    "plt.plot(test_n1)\n",
    "\n",
    "row_sums = x_train[1].sum(axis=1)\n",
    "\n",
    "plt.plot(row_sums)\n",
    "\n",
    "test_n1 = x_train[1] / row_sums[:, np.newaxis]\n",
    "\n",
    "test_n1"
   ]
  },
  {
   "cell_type": "code",
   "execution_count": 53,
   "metadata": {},
   "outputs": [],
   "source": [
    "#------------------------------------------------normalizar----mnnn leeer mas"
   ]
  },
  {
   "cell_type": "code",
   "execution_count": 140,
   "metadata": {},
   "outputs": [],
   "source": [
    "x_train = x_train.reshape(119, 1279, 23,1)\n",
    "x_test = x_test.reshape(40, 1279, 23,1)"
   ]
  },
  {
   "cell_type": "code",
   "execution_count": 141,
   "metadata": {},
   "outputs": [
    {
     "name": "stdout",
     "output_type": "stream",
     "text": [
      "(119, 1279, 23, 1)\n",
      "(40, 1279, 23, 1)\n"
     ]
    }
   ],
   "source": [
    "print(x_train.shape)\n",
    "print(x_test.shape)"
   ]
  },
  {
   "cell_type": "code",
   "execution_count": 144,
   "metadata": {},
   "outputs": [],
   "source": [
    "#----------------------------------------------"
   ]
  },
  {
   "cell_type": "code",
   "execution_count": 48,
   "metadata": {},
   "outputs": [],
   "source": [
    "#limpiamos todo en caso de realizar un nuevo entrenamiento\n",
    "K.clear_session()"
   ]
  },
  {
   "cell_type": "markdown",
   "metadata": {},
   "source": [
    "###---------------------------------------------------------------------### "
   ]
  },
  {
   "cell_type": "code",
   "execution_count": 28,
   "metadata": {},
   "outputs": [],
   "source": [
    "# profundizar en el analicis de distribucion de los casos\n",
    "METRICS = [\n",
    "      keras.metrics.TruePositives(name='tp'),\n",
    "      keras.metrics.FalsePositives(name='fp'),\n",
    "      keras.metrics.TrueNegatives(name='tn'),\n",
    "      keras.metrics.FalseNegatives(name='fn'), \n",
    "      keras.metrics.BinaryAccuracy(name='accuracy'),\n",
    "      keras.metrics.Precision(name='precision'),\n",
    "      keras.metrics.Recall(name='recall'),\n",
    "      keras.metrics.AUC(name='auc'),\n",
    "]"
   ]
  },
  {
   "cell_type": "code",
   "execution_count": 97,
   "metadata": {},
   "outputs": [],
   "source": [
    "filtrosConv1 = 32\n",
    "filtrosConv2 = 32\n",
    "filtrosConv3 = 32\n",
    "filtrosConv4 = 32\n",
    "tamaño_filtroConv1 = (3, 2)\n",
    "tamaño_filtroConv2 = (3, 2)\n",
    "tamaño_filtroConv3 = (3, 2)\n",
    "tamaño_filtroConv4 = (3, 2)\n",
    "tamaño_pool = (2, 2)"
   ]
  },
  {
   "cell_type": "code",
   "execution_count": 153,
   "metadata": {},
   "outputs": [],
   "source": [
    "model = Sequential()\n",
    "\n",
    "model.add(layers.Conv2D(filtrosConv1, tamaño_filtroConv1, padding='same', activation='relu', input_shape=(1279, 23, 1)))\n",
    "model.add(layers.MaxPooling2D(tamaño_pool))\n",
    "\n",
    "model.add(layers.Conv2D(filtrosConv2, tamaño_filtroConv2, padding='same', activation='relu'))\n",
    "model.add(layers.MaxPooling2D(tamaño_pool))\n",
    "\n",
    "model.add(layers.Conv2D(filtrosConv3, tamaño_filtroConv3, padding='same', activation='relu'))\n",
    "model.add(layers.MaxPooling2D(tamaño_pool))\n",
    "\n",
    "model.add(layers.Conv2D(filtrosConv4, tamaño_filtroConv4, padding='same', activation='relu'))\n",
    "\n",
    "model.add(layers.Flatten())\n",
    "model.add(layers.Dense(300, activation='relu'))\n",
    "model.add(layers.Dropout(0.5))# <--- apaga el 50 de las neuronas para evitar overfiting\n",
    "model.add(layers.Dense(100, activation='relu'))\n",
    "model.add(layers.Dense(50 , activation='relu'))\n",
    "model.add(layers.Dense(20 , activation='relu'))\n",
    "model.add(layers.Dense(2, activation ='softmax'))\n",
    "#model.add(layer.Dense(((Clases))), activation='softmax')# <--- es necesario agrupar en 2 clses de forma one hot\n",
    "\n",
    "#model.summary()"
   ]
  },
  {
   "cell_type": "code",
   "execution_count": 179,
   "metadata": {},
   "outputs": [],
   "source": [
    "epocas = 20\n",
    "# longitud, altura = 1279,23\n",
    "batch_size = 2 # numero de imagenes procesadas en cada paso ººpero no funcionaºº\n",
    "# clases = 2 # seizure o no seizure\n",
    "lr = 0.0005 # el learning rate que debe ser un numero pequeño"
   ]
  },
  {
   "cell_type": "code",
   "execution_count": 180,
   "metadata": {},
   "outputs": [
    {
     "name": "stdout",
     "output_type": "stream",
     "text": [
      "Train on 119 samples, validate on 40 samples\n",
      "Epoch 1/20\n",
      "119/119 [==============================] - 14s 120ms/sample - loss: 0.6944 - accuracy: 0.3950 - val_loss: 0.6931 - val_accuracy: 0.5000\n",
      "Epoch 2/20\n",
      "119/119 [==============================] - 13s 107ms/sample - loss: 0.6934 - accuracy: 0.4538 - val_loss: 0.6932 - val_accuracy: 0.5000\n",
      "Epoch 3/20\n",
      "119/119 [==============================] - 13s 106ms/sample - loss: 0.6940 - accuracy: 0.5126 - val_loss: 0.6932 - val_accuracy: 0.5000\n",
      "Epoch 4/20\n",
      "119/119 [==============================] - 13s 106ms/sample - loss: 0.6937 - accuracy: 0.4454 - val_loss: 0.6931 - val_accuracy: 0.5000\n",
      "Epoch 5/20\n",
      "119/119 [==============================] - 13s 106ms/sample - loss: 0.6937 - accuracy: 0.4370 - val_loss: 0.6932 - val_accuracy: 0.5000\n",
      "Epoch 6/20\n",
      "119/119 [==============================] - 13s 106ms/sample - loss: 0.6934 - accuracy: 0.5126 - val_loss: 0.6932 - val_accuracy: 0.5000\n",
      "Epoch 7/20\n",
      "119/119 [==============================] - 13s 107ms/sample - loss: 0.6937 - accuracy: 0.5042 - val_loss: 0.6932 - val_accuracy: 0.5000\n",
      "Epoch 8/20\n",
      "119/119 [==============================] - 13s 107ms/sample - loss: 0.6937 - accuracy: 0.3782 - val_loss: 0.6931 - val_accuracy: 0.5000\n",
      "Epoch 9/20\n",
      "119/119 [==============================] - 13s 107ms/sample - loss: 0.6939 - accuracy: 0.4874 - val_loss: 0.6931 - val_accuracy: 0.5000\n",
      "Epoch 10/20\n",
      "119/119 [==============================] - 13s 106ms/sample - loss: 0.6935 - accuracy: 0.4706 - val_loss: 0.6931 - val_accuracy: 0.5000\n",
      "Epoch 11/20\n",
      "119/119 [==============================] - 13s 107ms/sample - loss: 0.6935 - accuracy: 0.4202 - val_loss: 0.6931 - val_accuracy: 0.5000\n",
      "Epoch 12/20\n",
      "119/119 [==============================] - 13s 108ms/sample - loss: 0.6933 - accuracy: 0.4370 - val_loss: 0.6931 - val_accuracy: 0.5000\n",
      "Epoch 13/20\n",
      "119/119 [==============================] - 13s 108ms/sample - loss: 0.6935 - accuracy: 0.3697 - val_loss: 0.6931 - val_accuracy: 0.5000\n",
      "Epoch 14/20\n",
      "119/119 [==============================] - 13s 108ms/sample - loss: 0.6935 - accuracy: 0.4790 - val_loss: 0.6931 - val_accuracy: 0.5000\n",
      "Epoch 15/20\n",
      "119/119 [==============================] - 13s 108ms/sample - loss: 0.6933 - accuracy: 0.4790 - val_loss: 0.6931 - val_accuracy: 0.5000\n",
      "Epoch 16/20\n",
      "119/119 [==============================] - 13s 109ms/sample - loss: 0.6934 - accuracy: 0.4538 - val_loss: 0.6931 - val_accuracy: 0.5000\n",
      "Epoch 17/20\n",
      "119/119 [==============================] - 13s 110ms/sample - loss: 0.6934 - accuracy: 0.5042 - val_loss: 0.6931 - val_accuracy: 0.5000\n",
      "Epoch 18/20\n",
      "119/119 [==============================] - 13s 109ms/sample - loss: 0.6937 - accuracy: 0.5042 - val_loss: 0.6932 - val_accuracy: 0.5000\n",
      "Epoch 19/20\n",
      "119/119 [==============================] - 13s 109ms/sample - loss: 0.6936 - accuracy: 0.4202 - val_loss: 0.6931 - val_accuracy: 0.5000\n",
      "Epoch 20/20\n",
      "119/119 [==============================] - 13s 108ms/sample - loss: 0.6939 - accuracy: 0.5042 - val_loss: 0.6932 - val_accuracy: 0.5000\n"
     ]
    }
   ],
   "source": [
    "model.compile(optimizer=optimizers.Adam(lr=lr),\n",
    "              loss='categorical_crossentropy',\n",
    "              metrics=['accuracy'])\n",
    "\n",
    "history1 = model.fit(x_train, y_train_oh, epochs= epocas , batch_size = batch_size,\n",
    "                    validation_data=(x_test, y_test_oh))"
   ]
  },
  {
   "cell_type": "code",
   "execution_count": 181,
   "metadata": {},
   "outputs": [
    {
     "data": {
      "image/png": "[encoded data removed]",
      "text/plain": [
       "<Figure size 432x288 with 1 Axes>"
      ]
     },
     "metadata": {},
     "output_type": "display_data"
    }
   ],
   "source": [
    "N = epocas\n",
    "plt.style.use(\"ggplot\")\n",
    "plt.figure()\n",
    "plt.plot(np.arange(0,N), history1.history[\"loss\"], label=\"train_loss\")\n",
    "plt.plot(np.arange(0,N), history1.history[\"val_loss\"], label=\"val_loss\")\n",
    "plt.plot(np.arange(0,N), history1.history[\"accuracy\"], label=\"train_accuracy\")\n",
    "plt.plot(np.arange(0,N), history1.history[\"val_accuracy\"], label=\"val_accuracy\")\n",
    "plt.title(\"Traing Loss and Accuracy on Dataset\")\n",
    "plt.xlabel('Epoca #')\n",
    "plt.ylabel('Loss / Acc ')\n",
    "plt.legend(loc=\"upper right\")\n",
    "plt.savefig(\"CNN1_loss_Acc\")"
   ]
  },
  {
   "cell_type": "code",
   "execution_count": 182,
   "metadata": {},
   "outputs": [],
   "source": [
    "model.save('CNN1_sz.h5')"
   ]
  }
 ],
 "metadata": {
  "kernelspec": {
   "display_name": "Python 3",
   "language": "python",
   "name": "python3"
  },
  "language_info": {
   "codemirror_mode": {
    "name": "ipython",
    "version": 3
   },
   "file_extension": ".py",
   "mimetype": "text/x-python",
   "name": "python",
   "nbconvert_exporter": "python",
   "pygments_lexer": "ipython3",
   "version": "3.6.12"
  }
 },
 "nbformat": 4,
 "nbformat_minor": 4
}
