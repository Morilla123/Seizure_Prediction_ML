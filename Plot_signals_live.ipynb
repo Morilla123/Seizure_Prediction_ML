{
 "cells": [
  {
   "cell_type": "code",
   "execution_count": 4,
   "metadata": {},
   "outputs": [
    {
     "name": "stdout",
     "output_type": "stream",
     "text": [
      "Requirement already satisfied: pyOpenBCI in c:\\users\\dibio-hardpreform\\miniconda2\\envs\\tensorflow\\lib\\site-packages (0.13)Note: you may need to restart the kernel to use updated packages.\n",
      "\n"
     ]
    }
   ],
   "source": [
    "pip install pyOpenBCI"
   ]
  },
  {
   "cell_type": "code",
   "execution_count": 7,
   "metadata": {},
   "outputs": [
    {
     "name": "stdout",
     "output_type": "stream",
     "text": [
      "Requirement already satisfied: pyqtgraph in c:\\users\\dibio-hardpreform\\miniconda2\\envs\\tensorflow\\lib\\site-packages (0.11.0)Note: you may need to restart the kernel to use updated packages.\n",
      "\n",
      "Requirement already satisfied: numpy>=1.8.0 in c:\\users\\dibio-hardpreform\\miniconda2\\envs\\tensorflow\\lib\\site-packages (from pyqtgraph) (1.18.5)\n"
     ]
    }
   ],
   "source": [
    "pip install pyqtgraph"
   ]
  },
  {
   "cell_type": "code",
   "execution_count": 1,
   "metadata": {},
   "outputs": [
    {
     "name": "stdout",
     "output_type": "stream",
     "text": [
      "Serial established\n",
      "ID:<159> <Unexpected END_BYTE found <255> instead of <192>\n",
      "Skipped 10 bytes before start found\n",
      "[-8388608, -7696286, -7861707, -408264, -5332467, -5826074, -4554524, -6672385]\n",
      "Closing Serial\n"
     ]
    }
   ],
   "source": [
    "from pyOpenBCI import OpenBCICyton\n",
    "\n",
    "import threading\n",
    "import time\n",
    "\n",
    "import sys\n",
    "sys.path.append('C:/Python37/Lib/site-packages')\n",
    "\n",
    "from IPython.display import clear_output\n",
    "%matplotlib qt5\n",
    "%matplotlib inline\n",
    "\n",
    "\n",
    "from pyqtgraph.Qt import QtGui, QtCore\n",
    "import pyqtgraph as pg\n",
    "import random\n",
    "import numpy as np\n",
    "from scipy import signal\n",
    "\n",
    "import scipy\n",
    "from scipy.signal import butter, lfilter\n",
    "\n",
    "def print_raw(sample):\n",
    "    print(sample.channels_data)\n",
    "\n",
    "board = OpenBCICyton(port='COM5', daisy=False)\n",
    "\n",
    "def start_cyton():\n",
    "    try:\n",
    "        board.start_stream(print_raw)\n",
    "    except:\n",
    "        pass\n",
    "\n",
    "y = threading.Thread(target=start_cyton)\n",
    "y.daemon = True\n",
    "y.start()\n",
    "\n",
    "time.sleep(.02)\n",
    "board.disconnect()"
   ]
  },
  {
   "cell_type": "code",
   "execution_count": 2,
   "metadata": {},
   "outputs": [
    {
     "name": "stdout",
     "output_type": "stream",
     "text": [
      "Serial established\n",
      "Skipped 10 bytes before start found\n",
      "Skipped 100 bytes before start found\n"
     ]
    }
   ],
   "source": [
    "\n",
    "SCALE_FACTOR = (4500000)/24/(2**23-1) #From the pyOpenBCI repo\n",
    "colors = 'rgbycmwr'\n",
    "\n",
    "# Set up GUI Layout\n",
    "app = QtGui.QApplication([])\n",
    "win = pg.GraphicsWindow(title='Python OpenBCI GUI')\n",
    "ts_plots = [win.addPlot(row=i, col=0, colspan=2, title='Channel %d' % i, labels={'left': 'uV'}) for i in range(1,4)]\n",
    "fft_plot = win.addPlot(row=1, col=2, rowspan=4, title='FFT Plot', labels={'left': 'uV', 'bottom': 'Hz'})\n",
    "\n",
    "data = [[0,0,0,0,0,0,0,0]]\n",
    "\n",
    "# Define OpenBCI callback function\n",
    "def save_data(sample):\n",
    "    global data\n",
    "    data.append([i*SCALE_FACTOR for i in sample.channels_data])\n",
    "\n",
    "# Define function to update the graphs\n",
    "def updater():\n",
    "    global data, plots, colors\n",
    "    t_data = np.array(data[-1250:]).T #transpose data\n",
    "    fs = 250 #Hz\n",
    "\n",
    "    # Notch Filter\n",
    "    def notch_filter(val, data, fs=250):\n",
    "        notch_freq_Hz = np.array([float(val)])\n",
    "        for freq_Hz in np.nditer(notch_freq_Hz):\n",
    "            bp_stop_Hz = freq_Hz + 3.0 * np.array([-1, 1])\n",
    "            b, a = signal.butter(3, bp_stop_Hz / (fs / 2.0), 'bandstop')\n",
    "            fin = data = signal.lfilter(b, a, data)\n",
    "        return fin\n",
    "\n",
    "    # Bandpass filter\n",
    "    def bandpass(start, stop, data, fs = 250):\n",
    "        bp_Hz = np.array([start, stop])\n",
    "        b, a = signal.butter(5, bp_Hz / (fs / 2.0), btype='bandpass')\n",
    "        return signal.lfilter(b, a, data, axis=0)\n",
    "    \n",
    "    #     def bandpass(data,low,high, fs = 250, order=5,analog=True):\n",
    "#         nyq = 0.5 * fs\n",
    "#         low = low / nyq\n",
    "#         high = high / nyq\n",
    "#         b, a = signal.butter(order,[low,high],btype='band')\n",
    "#         y = signal.lfilter(b,a,data)\n",
    "\n",
    "    # Applying the filters\n",
    "    nf_data = [[],[],[],[],[],[],[],[]]\n",
    "    bp_nf_data = [[],[],[],[],[],[],[],[]]\n",
    "\n",
    "    for i in range(8):\n",
    "        nf_data[i] = notch_filter(50, t_data[i])\n",
    "        bp_nf_data[i] = bandpass(30, 120, nf_data[i])\n",
    "\n",
    "    # Plot a time series of the raw data\n",
    "    for j in range(3):\n",
    "        ts_plots[j].clear()\n",
    "        ts_plots[j].plot(pen=colors[j]).setData(t_data[j])\n",
    "\n",
    "    # Get an FFT of the data and plot it\n",
    "    sp = [[],[],[],[],[],[],[],[]]\n",
    "    freq = [[],[],[],[],[],[],[],[]]\n",
    "    \n",
    "    fft_plot.clear()\n",
    "    for k in range(3):\n",
    "        sp[k] = np.absolute(np.fft.fft(bp_nf_data[k]))\n",
    "        freq[k] = np.fft.fftfreq(bp_nf_data[k].shape[-1], 1.0/fs)\n",
    "        fft_plot.plot(pen=colors[k]).setData(freq[k], sp[k])\n",
    "\n",
    "# Define thread function\n",
    "def start_board():\n",
    "    board = OpenBCICyton(port='COM5', daisy=False)\n",
    "    board.start_stream(save_data)\n",
    "    \n",
    "# Initialize Board and graphing update\n",
    "if __name__ == '__main__':\n",
    "    if (sys.flags.interactive != 1) or not hasattr(QtCore, 'PYQT_VERSION'):\n",
    "        x = threading.Thread(target=start_board)\n",
    "        x.daemon = True\n",
    "        x.start()\n",
    "\n",
    "        timer = QtCore.QTimer()\n",
    "        timer.timeout.connect(updater)\n",
    "        timer.start(0)\n",
    "\n",
    "\n",
    "        QtGui.QApplication.instance().exec_()"
   ]
  },
  {
   "cell_type": "code",
   "execution_count": null,
   "metadata": {},
   "outputs": [],
   "source": [
    "board.disconnect()"
   ]
  }
 ],
 "metadata": {
  "kernelspec": {
   "display_name": "Python 3",
   "language": "python",
   "name": "python3"
  },
  "language_info": {
   "codemirror_mode": {
    "name": "ipython",
    "version": 3
   },
   "file_extension": ".py",
   "mimetype": "text/x-python",
   "name": "python",
   "nbconvert_exporter": "python",
   "pygments_lexer": "ipython3",
   "version": "3.7.7"
  }
 },
 "nbformat": 4,
 "nbformat_minor": 4
}
